{
 "cells": [
  {
   "cell_type": "markdown",
   "id": "75fda06b",
   "metadata": {},
   "source": [
    "\n"
   ]
  },
  {
   "cell_type": "code",
   "execution_count": 2,
   "id": "a8a0027e",
   "metadata": {},
   "outputs": [
    {
     "name": "stdout",
     "output_type": "stream",
     "text": [
      "[(-3, -1, 4), (-1, 0, 1), (-4, 1, 3), (-2, 0, 2), (-3, 0, 3), (-4, 0, 4), (-5, 2, 3), (-2, -1, 3), (-5, 1, 4), (-3, 1, 2)]\n"
     ]
    }
   ],
   "source": [
    "def find_pairs(nums, m):\n",
    "    pairs = []\n",
    "    n = len(nums)\n",
    "    for i in range(n):\n",
    "        for j in range(i + 1, n):\n",
    "            if nums[i] + nums[j] == m:\n",
    "                pairs.append((nums[i], nums[j]))\n",
    "    return pairs\n",
    "\n",
    "def find_triplets(nums):\n",
    "    triplets = set()  # Using a set to avoid duplicate triplets\n",
    "    n = len(nums)\n",
    "    \n",
    "    for i in range(n):\n",
    "        m = -nums[i]  # We need to find pairs (a_j, a_k) such that a_j + a_k = -a_i\n",
    "        pairs = find_pairs(nums[:i] + nums[i+1:], m)  # Excluding the current element\n",
    "        for pair in pairs:\n",
    "            triplet = tuple(sorted([nums[i], pair[0], pair[1]]))  # Sort to ensure uniqueness\n",
    "            triplets.add(triplet)\n",
    "    \n",
    "    return list(triplets)\n",
    "\n",
    "\n",
    "nums = [-5, 4, -4, 3, -3, -2, 2, -1, 1, 0]\n",
    "triplets = find_triplets(nums)\n",
    "print(triplets)\n"
   ]
  },
  {
   "cell_type": "code",
   "execution_count": null,
   "id": "b11442c7",
   "metadata": {},
   "outputs": [],
   "source": []
  }
 ],
 "metadata": {
  "kernelspec": {
   "display_name": "Python 3 (ipykernel)",
   "language": "python",
   "name": "python3"
  },
  "language_info": {
   "codemirror_mode": {
    "name": "ipython",
    "version": 3
   },
   "file_extension": ".py",
   "mimetype": "text/x-python",
   "name": "python",
   "nbconvert_exporter": "python",
   "pygments_lexer": "ipython3",
   "version": "3.11.5"
  }
 },
 "nbformat": 4,
 "nbformat_minor": 5
}
